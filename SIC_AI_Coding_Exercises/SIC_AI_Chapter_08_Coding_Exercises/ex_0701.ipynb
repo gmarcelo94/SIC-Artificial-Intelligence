{
 "cells": [
  {
   "cell_type": "markdown",
   "metadata": {},
   "source": [
    "## Coding Exercise #0701"
   ]
  },
  {
   "cell_type": "markdown",
   "metadata": {},
   "source": [
    "### 1. TensorFlow basics:"
   ]
  },
  {
   "cell_type": "code",
   "execution_count": null,
   "metadata": {},
   "outputs": [],
   "source": [
    "# Install once.\n",
    "# !pip install tensorflow\n",
    "# OR\n",
    "# !pip install --user tensorflow-gpu"
   ]
  },
  {
   "cell_type": "code",
   "execution_count": null,
   "metadata": {},
   "outputs": [],
   "source": [
    "# import tensorflow as tf\n",
    "import tensorflow.compat.v1 as tf\n",
    "import numpy as np\n",
    "\n",
    "tf.disable_v2_behavior()"
   ]
  },
  {
   "cell_type": "markdown",
   "metadata": {},
   "source": [
    "#### 1.1. Hello World!"
   ]
  },
  {
   "cell_type": "code",
   "execution_count": null,
   "metadata": {},
   "outputs": [],
   "source": [
    "hello = tf.constant(\"Hello World!\")\n",
    "with tf.Session() as sess:\n",
    "    print(sess.run(hello))"
   ]
  },
  {
   "cell_type": "markdown",
   "metadata": {},
   "source": [
    "#### 1.2. Creating tensors:"
   ]
  },
  {
   "cell_type": "code",
   "execution_count": null,
   "metadata": {},
   "outputs": [],
   "source": [
    "hello = tf.constant(\"Hello World!\")                         # String.\n",
    "const_scalar = tf.constant(7)                               # A scalar tensor.\n",
    "const_matrix = tf.constant([[1,2], [3,4]])                  # A matrix tensor.\n",
    "mat_fill = tf.fill((4,4),9)                                 # A 4x4 tensor filled with 9s.\n",
    "mat_zeros = tf.zeros((3,3))                                 # A 3x3 tensor filled with 0s.\n",
    "mat_ones = tf.ones((5,5))                                   # A 5x5 tensor filled with 1s.\n",
    "mat_randn = tf.random_normal((3,3), mean=0, stddev=1.0)     # 3x3 random normal tensor.\n",
    "mat_randu = tf.random_uniform((4,4), minval=0, maxval=1.0)  # 4x4 random uniform tensor."
   ]
  },
  {
   "cell_type": "code",
   "execution_count": null,
   "metadata": {},
   "outputs": [],
   "source": [
    "my_ops=[hello, const_scalar, const_matrix, mat_fill, mat_zeros, mat_ones, mat_randn, mat_randu]\n",
    "with tf.Session() as sess:\n",
    "    for op in my_ops:\n",
    "        res = sess.run(op)\n",
    "        print(type(res))\n",
    "        print('\\n')\n",
    "        print(res)\n",
    "        print('\\n')"
   ]
  },
  {
   "cell_type": "markdown",
   "metadata": {},
   "source": [
    "#### 1.3. Math operations:"
   ]
  },
  {
   "cell_type": "code",
   "execution_count": null,
   "metadata": {},
   "outputs": [],
   "source": [
    "n1 = tf.constant(1)\n",
    "n2 = tf.constant(2)\n",
    "n3 = n1* n2\n",
    "with tf.Session() as sess:\n",
    "    print(sess.run(n3))"
   ]
  },
  {
   "cell_type": "code",
   "execution_count": null,
   "metadata": {},
   "outputs": [],
   "source": [
    "n1 = tf.constant(4)\n",
    "n2 = tf.constant(5)\n",
    "n3 = tf.add(n1,n2)\n",
    "with tf.Session() as sess:\n",
    "    print(sess.run(n3))"
   ]
  },
  {
   "cell_type": "code",
   "execution_count": null,
   "metadata": {},
   "outputs": [],
   "source": [
    "n1 = tf.constant(2)\n",
    "n2 = tf.constant(3)\n",
    "n3 = tf.multiply(n1,n2)\n",
    "with tf.Session() as sess:\n",
    "    print(sess.run(n3))"
   ]
  },
  {
   "cell_type": "code",
   "execution_count": null,
   "metadata": {},
   "outputs": [],
   "source": [
    "n1 = tf.constant(2)\n",
    "n2 = tf.constant(3)\n",
    "n3 = tf.pow(n1,n2)\n",
    "with tf.Session() as sess:\n",
    "    print(sess.run(n3))"
   ]
  },
  {
   "cell_type": "markdown",
   "metadata": {},
   "source": [
    "#### 1.4. Matrix functions and operations:"
   ]
  },
  {
   "cell_type": "code",
   "execution_count": null,
   "metadata": {},
   "outputs": [],
   "source": [
    "m1 = tf.constant([[1,2], [3,4]])\n",
    "m2 = tf.constant([[1], [2]])\n",
    "m3 = tf.matmul(m1, m2)                            # Matrix multiplication. Different from the element-wise multiplication with multiply().\n",
    "with tf.Session() as sess:\n",
    "    print(sess.run(m3))"
   ]
  },
  {
   "cell_type": "code",
   "execution_count": null,
   "metadata": {},
   "outputs": [],
   "source": [
    "m1 = tf.constant([[1,2], [3,4]])\n",
    "m2 = tf.constant([[5, 6], [7, 8]])\n",
    "m3 = tf.matmul(m1, m2)\n",
    "with tf.Session() as sess:\n",
    "    print(sess.run(m3))"
   ]
  },
  {
   "cell_type": "code",
   "execution_count": null,
   "metadata": {},
   "outputs": [],
   "source": [
    "m3 = tf.multiply(m1, m2)\n",
    "with tf.Session() as sess:\n",
    "    print(sess.run(m3))"
   ]
  },
  {
   "cell_type": "code",
   "execution_count": null,
   "metadata": {},
   "outputs": [],
   "source": [
    "m3 = m1*m2\n",
    "with tf.Session() as sess:\n",
    "    print(sess.run(m3))"
   ]
  },
  {
   "cell_type": "code",
   "execution_count": null,
   "metadata": {},
   "outputs": [],
   "source": [
    "m3 = m1 + m2\n",
    "with tf.Session() as sess:\n",
    "    print(sess.run(m3))"
   ]
  },
  {
   "cell_type": "code",
   "execution_count": null,
   "metadata": {},
   "outputs": [],
   "source": [
    "m3 = m1-m2\n",
    "with tf.Session() as sess:\n",
    "    print(sess.run(m3))"
   ]
  },
  {
   "cell_type": "code",
   "execution_count": null,
   "metadata": {},
   "outputs": [],
   "source": [
    "m3 = m1 / m2\n",
    "with tf.Session() as sess:\n",
    "    print(np.round(sess.run(m3),3))"
   ]
  },
  {
   "cell_type": "code",
   "execution_count": null,
   "metadata": {},
   "outputs": [],
   "source": [
    "# Matrix functions.\n",
    "m = tf.constant([[1.0,2.0],[3.0,4.0]])\n",
    "m_diagonal = tf.matrix_diag([1,2,3])\n",
    "m_transpose = tf.matrix_transpose(m)\n",
    "m_inverse = tf.matrix_inverse(m)\n",
    "m_multiplied = tf.matmul(m, m_inverse)\n",
    "m_determinant = tf.matrix_determinant(m)\n",
    "my_matrices = [m, m_diagonal, m_transpose, m_inverse, m_multiplied, m_determinant]\n",
    "with tf.Session() as sess:\n",
    "    for mat in my_matrices:\n",
    "        res = sess.run(mat)\n",
    "        print(np.round(res,3))\n",
    "        print('\\n')"
   ]
  },
  {
   "cell_type": "markdown",
   "metadata": {},
   "source": [
    "#### 1.5. TensorFlow Variable:"
   ]
  },
  {
   "cell_type": "code",
   "execution_count": null,
   "metadata": {},
   "outputs": [],
   "source": [
    "# Initializing Variables #1\n",
    "x = tf.Variable(initial_value=5, name='x')       # Define.\n",
    "y = tf.Variable(initial_value=6, name='y')       # Define.\n",
    "f = (x - y)*y + 3                                # Define.\n",
    "sess = tf.Session()\n",
    "sess.run(x.initializer)                          # Initialize.\n",
    "sess.run(y.initializer)                          # Initialize. \n",
    "res = sess.run(f)  \n",
    "print(res)\n",
    "sess.close()"
   ]
  },
  {
   "cell_type": "code",
   "execution_count": null,
   "metadata": {},
   "outputs": [],
   "source": [
    "# Initializing Variables #2\n",
    "x = tf.Variable(initial_value=3, name='x')       # Define.\n",
    "y = tf.Variable(initial_value=2, name='y')       # Define.\n",
    "f = x*y + y + 3                                  # Define.\n",
    "with tf.Session() as sess:\n",
    "    x.initializer.run()                          # Initialize. The same as \"sess.run(x.initializer)\".\n",
    "    y.initializer.run()                          # Initialize. The same as \"sess.run(y.initializer)\".\n",
    "    res = f.eval()                               # The same as \"res = sess.run(f)\".\n",
    "print(res)"
   ]
  },
  {
   "cell_type": "code",
   "execution_count": null,
   "metadata": {},
   "outputs": [],
   "source": [
    "# Initializing Variables #3\n",
    "x = tf.Variable(initial_value=7, name='x')       # Define.\n",
    "y = tf.Variable(initial_value=3, name='y')       # Define.\n",
    "f = x*y*y - y - 1                                # Define.\n",
    "init = tf.global_variables_initializer()         # Prepare.\n",
    "with tf.Session() as sess:\n",
    "    sess.run(init)                               # Initialize.\n",
    "    res = f.eval()                               # The same as \"res = sess.run(f)\".\n",
    "print(res)"
   ]
  },
  {
   "cell_type": "code",
   "execution_count": null,
   "metadata": {},
   "outputs": [],
   "source": [
    "my_tensor = tf.random_uniform((4,4),0,1)\n",
    "my_var = tf.Variable(initial_value = my_tensor)                  # Initial value from a tensor.\n",
    "#my_matrix = np.random.uniform(0,1,(4,4))\n",
    "#my_var = tf.Variable(initial_value = my_matrix)                  # Initial value from a Numpy array.\n",
    "init = tf.global_variables_initializer()\n",
    "with tf.Session() as sess:\n",
    "    sess.run(init)                                               \n",
    "    print(sess.run(my_var))"
   ]
  },
  {
   "cell_type": "markdown",
   "metadata": {},
   "source": [
    "#### 1.6. TensorFlow Placeholder"
   ]
  },
  {
   "cell_type": "code",
   "execution_count": null,
   "metadata": {},
   "outputs": [],
   "source": [
    "a = tf.placeholder(tf.float32)\n",
    "b = tf.placeholder(tf.float32)\n",
    "y = tf.multiply(a, b)\n",
    "with tf.Session() as sess:\n",
    "    res = sess.run(y, feed_dict={a:2, b:3})           # Feed the actual valules.\n",
    "    print(res)"
   ]
  },
  {
   "cell_type": "code",
   "execution_count": null,
   "metadata": {},
   "outputs": [],
   "source": [
    "# Simulated data as NumPy array.\n",
    "np.random.seed(123)\n",
    "X1 = np.random.uniform(0.0, 1.0, (3,3))\n",
    "X2 = np.random.normal(0.0, 1.0, (10,3))\n",
    "b0 = np.array([1,2,3]).reshape((-1,1))\n",
    "#\n",
    "# The data may be a DataFrame.\n",
    "# X1 = pd.DataFrame(X1)\n",
    "# X2 = pd.DataFrame(X2)\n",
    "#\n",
    "X = tf.placeholder(tf.float32, shape=(None,3))       # \"None\" means that the number of rows is still undefined. \n",
    "b = tf.placeholder(tf.float32, shape=(3,1))\n",
    "y = tf.matmul(X, b)\n",
    "with tf.Session() as sess:\n",
    "    print(sess.run(y, feed_dict={X:X1, b:b0}))       # Feed in the data.\n",
    "    print(\"\\n\")\n",
    "    print(sess.run(y, feed_dict={X:X2, b:b0}))       # Feed in the data."
   ]
  }
 ],
 "metadata": {
  "kernelspec": {
   "display_name": "Python 3",
   "language": "python",
   "name": "python3"
  },
  "language_info": {
   "codemirror_mode": {
    "name": "ipython",
    "version": 3
   },
   "file_extension": ".py",
   "mimetype": "text/x-python",
   "name": "python",
   "nbconvert_exporter": "python",
   "pygments_lexer": "ipython3",
   "version": "3.7.3"
  }
 },
 "nbformat": 4,
 "nbformat_minor": 2
}
