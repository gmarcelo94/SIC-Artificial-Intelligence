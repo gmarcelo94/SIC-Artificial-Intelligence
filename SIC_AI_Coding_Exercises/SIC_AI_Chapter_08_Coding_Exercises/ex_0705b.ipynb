{
 "cells": [
  {
   "cell_type": "markdown",
   "metadata": {},
   "source": [
    "## Coding Exercise #0705b"
   ]
  },
  {
   "cell_type": "markdown",
   "metadata": {},
   "source": [
    "### 1. Tensor Board - Part b:"
   ]
  },
  {
   "cell_type": "code",
   "execution_count": null,
   "metadata": {},
   "outputs": [],
   "source": [
    "# import tensorflow as tf\n",
    "import tensorflow.compat.v1 as tf\n",
    "\n",
    "tf.disable_v2_behavior()"
   ]
  },
  {
   "cell_type": "markdown",
   "metadata": {},
   "source": [
    "#### 1.1. A scalar node and graph (constant):"
   ]
  },
  {
   "cell_type": "code",
   "execution_count": null,
   "metadata": {},
   "outputs": [],
   "source": [
    "a = tf.constant(3.0, name=\"a\")             # Constant.\n",
    "b = tf.constant(4.0, name=\"b\")             # Constant.\n",
    "c = tf.add(a, b, name=\"add_node\")"
   ]
  },
  {
   "cell_type": "code",
   "execution_count": null,
   "metadata": {},
   "outputs": [],
   "source": [
    "# 'c' is the scalar to be recorded.\n",
    "tf.summary.scalar(\"result_of_adding_c_1\", c)"
   ]
  },
  {
   "cell_type": "code",
   "execution_count": null,
   "metadata": {},
   "outputs": [],
   "source": [
    "# Summary merge.\n",
    "merge_all = tf.summary.merge_all()"
   ]
  },
  {
   "cell_type": "code",
   "execution_count": null,
   "metadata": {},
   "outputs": [],
   "source": [
    "# This will just record a single value (7).\n",
    "with tf.Session() as sess:\n",
    "    writer = tf.summary.FileWriter(\"./TensorBoard\", sess.graph)    # Write the event file in the \"TensorBoard\" sub-folder.   \n",
    "    # Record in the log.\n",
    "    res = sess.run(merge_all)\n",
    "    writer.add_summary(res)\n",
    "    writer.close()"
   ]
  },
  {
   "cell_type": "markdown",
   "metadata": {},
   "source": [
    "#### 1.2. Start the Tensor Board:"
   ]
  },
  {
   "cell_type": "markdown",
   "metadata": {},
   "source": [
    "1. Start the Tensor Board by typing the following at the command prompt: <br>\n",
    "<br>\n",
    "tensorboard --logdir=TensorBoard <br>\n",
    " <br>\n",
    "2. Then, start a browser and enter *localhost:6006* as the URL. <br>\n",
    "3. Click on the SCALARS tab at the Tensor Board and see the newly recorded scalar. <br>"
   ]
  },
  {
   "cell_type": "code",
   "execution_count": null,
   "metadata": {},
   "outputs": [],
   "source": []
  }
 ],
 "metadata": {
  "kernelspec": {
   "display_name": "Python 3",
   "language": "python",
   "name": "python3"
  },
  "language_info": {
   "codemirror_mode": {
    "name": "ipython",
    "version": 3
   },
   "file_extension": ".py",
   "mimetype": "text/x-python",
   "name": "python",
   "nbconvert_exporter": "python",
   "pygments_lexer": "ipython3",
   "version": "3.7.3"
  }
 },
 "nbformat": 4,
 "nbformat_minor": 2
}
