{
 "cells": [
  {
   "cell_type": "markdown",
   "metadata": {},
   "source": [
    "## Coding Exercise #0705d"
   ]
  },
  {
   "cell_type": "markdown",
   "metadata": {},
   "source": [
    "### 1. Tensor Board - Part d:"
   ]
  },
  {
   "cell_type": "code",
   "execution_count": null,
   "metadata": {},
   "outputs": [],
   "source": [
    "# import tensorflow as tf\n",
    "import tensorflow.compat.v1 as tf\n",
    "\n",
    "tf.disable_v2_behavior()"
   ]
  },
  {
   "cell_type": "markdown",
   "metadata": {},
   "source": [
    "#### 1.1. A scalar node and graph (name_scope):"
   ]
  },
  {
   "cell_type": "code",
   "execution_count": null,
   "metadata": {},
   "outputs": [],
   "source": [
    "a = tf.constant(2.0, name=\"a\")\n",
    "b = tf.constant(3.0, name=\"b\")\n",
    "c = tf.constant(4.0, name=\"c\")"
   ]
  },
  {
   "cell_type": "code",
   "execution_count": null,
   "metadata": {},
   "outputs": [],
   "source": [
    "# Define a nested structure of name scopes.\n",
    "with tf.name_scope('Big_op'):\n",
    "    with tf.name_scope('Small_op'):\n",
    "        add_opr = tf.add(a, b, name=\"add_opr\")\n",
    "    mul_opr = tf.multiply(add_opr, c, name=\"mul_opr\") "
   ]
  },
  {
   "cell_type": "code",
   "execution_count": null,
   "metadata": {},
   "outputs": [],
   "source": [
    "# 'mul_opr' is the scalar to be recorded.\n",
    "tf.summary.scalar(\"result_of_multiply\", mul_opr)"
   ]
  },
  {
   "cell_type": "code",
   "execution_count": null,
   "metadata": {},
   "outputs": [],
   "source": [
    "# Summary merge.\n",
    "mergeall = tf.summary.merge_all()"
   ]
  },
  {
   "cell_type": "code",
   "execution_count": null,
   "metadata": {},
   "outputs": [],
   "source": [
    "with tf.Session() as sess:\n",
    "    writer = tf.summary.FileWriter(\"./TensorBoard\", sess.graph)    # Write the event file in the \"TensorBoard\" sub-folder. \n",
    "    res = sess.run(mergeall)\n",
    "    writer.add_summary(res)\n",
    "    writer.close()"
   ]
  },
  {
   "cell_type": "markdown",
   "metadata": {},
   "source": [
    "#### 1.2. Start the Tensor Board:"
   ]
  },
  {
   "cell_type": "markdown",
   "metadata": {},
   "source": [
    "1. Start the Tensor Board by typing the following at the command prompt: <br>\n",
    "<br>\n",
    "tensorboard --logdir=TensorBoard <br>\n",
    " <br>\n",
    "2. Then, start a browser and enter *localhost:6006* as the URL. \n",
    "3. Click on the GRAPHS tab at the Tensor Board and see the newly generated graph. <br>\n",
    "4. Double click on 'Big_op' and 'Small_op' to open or close."
   ]
  },
  {
   "cell_type": "code",
   "execution_count": null,
   "metadata": {},
   "outputs": [],
   "source": []
  }
 ],
 "metadata": {
  "kernelspec": {
   "display_name": "Python 3",
   "language": "python",
   "name": "python3"
  },
  "language_info": {
   "codemirror_mode": {
    "name": "ipython",
    "version": 3
   },
   "file_extension": ".py",
   "mimetype": "text/x-python",
   "name": "python",
   "nbconvert_exporter": "python",
   "pygments_lexer": "ipython3",
   "version": "3.7.3"
  }
 },
 "nbformat": 4,
 "nbformat_minor": 2
}
