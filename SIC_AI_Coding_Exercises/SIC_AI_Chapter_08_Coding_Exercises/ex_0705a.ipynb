{
 "cells": [
  {
   "cell_type": "markdown",
   "metadata": {},
   "source": [
    "## Coding Exercise #0705a"
   ]
  },
  {
   "cell_type": "markdown",
   "metadata": {},
   "source": [
    "### 1. Tensor Board - Part a:"
   ]
  },
  {
   "cell_type": "code",
   "execution_count": null,
   "metadata": {},
   "outputs": [],
   "source": [
    "# import tensorflow as tf\n",
    "import tensorflow.compat.v1 as tf\n",
    "\n",
    "tf.disable_v2_behavior()"
   ]
  },
  {
   "cell_type": "markdown",
   "metadata": {},
   "source": [
    "#### 1.1. A simple graph #1:"
   ]
  },
  {
   "cell_type": "code",
   "execution_count": null,
   "metadata": {},
   "outputs": [],
   "source": [
    "# The name attribute can be seen at the Tensor Board.\n",
    "a = tf.add(1,2, name=\"Add_1\")             \n",
    "b = tf.add(3,4, name=\"Add_2\")\n",
    "c = tf.multiply(a,b, name=\"Multiply\")      "
   ]
  },
  {
   "cell_type": "code",
   "execution_count": null,
   "metadata": {},
   "outputs": [],
   "source": [
    "with tf.Session() as sess:\n",
    "        writer = tf.summary.FileWriter(\"./TensorBoard\", sess.graph)          # Write the event file in the \"TensorBoard\" sub-folder.\n",
    "        print(sess.run(c))\n",
    "        writer.close()"
   ]
  },
  {
   "cell_type": "markdown",
   "metadata": {},
   "source": [
    "#### 1.2. A simple graph #2:"
   ]
  },
  {
   "cell_type": "code",
   "execution_count": null,
   "metadata": {},
   "outputs": [],
   "source": [
    "# Define a name scope.\n",
    "with tf.name_scope(\"Operation_A\"):\n",
    "    m1 = tf.constant([[1.,2.], [3.,4.]],name=\"Matrix\")\n",
    "    m2 = tf.constant([[1.], [2.]], name=\"Column_Vector\")\n",
    "    m3 = tf.matmul(m1, m2,name=\"Matrix_Multiplication\")                      "
   ]
  },
  {
   "cell_type": "code",
   "execution_count": null,
   "metadata": {},
   "outputs": [],
   "source": [
    "# Define a name scope.\n",
    "with tf.name_scope(\"Operation_B\"):\n",
    "    m4 = tf.constant([[1.0,2.0],[3.0,4.0]],name=\"Matrix\")\n",
    "    m4_inverse = tf.matrix_inverse(m4,name=\"Matrix_Inverse\")"
   ]
  },
  {
   "cell_type": "code",
   "execution_count": null,
   "metadata": {},
   "outputs": [],
   "source": [
    "m5 = tf.matmul(m4_inverse, m3, name=\"Final\")"
   ]
  },
  {
   "cell_type": "code",
   "execution_count": null,
   "metadata": {},
   "outputs": [],
   "source": [
    "with tf.Session() as sess:\n",
    "        writer = tf.summary.FileWriter(\"./TensorBoard\", sess.graph)       # Write the event file in the \"TensorBoard\" sub-folder.\n",
    "        print(sess.run(m5))\n",
    "        writer.close()"
   ]
  },
  {
   "cell_type": "markdown",
   "metadata": {},
   "source": [
    "#### 1.3. Start the Tensor Board:"
   ]
  },
  {
   "cell_type": "markdown",
   "metadata": {},
   "source": [
    "1. Start the Tensor Board by typing the following at the command prompt: <br>\n",
    "<br>\n",
    "tensorboard --logdir=TensorBoard <br>\n",
    " <br>\n",
    "2. Then, start a browser and enter *localhost:6006* as the URL. \n",
    "3. Click on the GRAPHS tab at the Tensor Board and see the newly generated graphs."
   ]
  },
  {
   "cell_type": "code",
   "execution_count": null,
   "metadata": {},
   "outputs": [],
   "source": []
  }
 ],
 "metadata": {
  "kernelspec": {
   "display_name": "Python 3",
   "language": "python",
   "name": "python3"
  },
  "language_info": {
   "codemirror_mode": {
    "name": "ipython",
    "version": 3
   },
   "file_extension": ".py",
   "mimetype": "text/x-python",
   "name": "python",
   "nbconvert_exporter": "python",
   "pygments_lexer": "ipython3",
   "version": "3.7.3"
  }
 },
 "nbformat": 4,
 "nbformat_minor": 2
}
