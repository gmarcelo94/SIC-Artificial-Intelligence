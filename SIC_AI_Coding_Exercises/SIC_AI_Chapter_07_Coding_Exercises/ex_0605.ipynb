{
 "cells": [
  {
   "cell_type": "markdown",
   "metadata": {},
   "source": [
    "## Coding Exercise #0605"
   ]
  },
  {
   "cell_type": "code",
   "execution_count": null,
   "metadata": {},
   "outputs": [],
   "source": [
    "# Install Tweepy version 4 for access to the Twitter API v2.\n",
    "!pip install tweepy==4"
   ]
  },
  {
   "cell_type": "code",
   "execution_count": null,
   "metadata": {},
   "outputs": [],
   "source": [
    "import tweepy\n",
    "import re\n",
    "import os\n",
    "import pickle\n",
    "import nltk\n",
    "from nltk.corpus import stopwords\n",
    "from tweepy import OAuthHandler"
   ]
  },
  {
   "cell_type": "code",
   "execution_count": null,
   "metadata": {},
   "outputs": [],
   "source": [
    "%%time\n",
    "# You should download the NLTK data once.\n",
    "# It can be a bit time consuming.\n",
    "# nltk.download()\n",
    "# We download just what we need.\n",
    "nltk.download('punkt')\n",
    "nltk.download('stopwords')"
   ]
  },
  {
   "cell_type": "markdown",
   "metadata": {},
   "source": [
    "### 1. Fetch tweets\n",
    "More information can be found [here](https://docs.tweepy.org/en/v4.0.0/index.html)."
   ]
  },
  {
   "cell_type": "code",
   "execution_count": null,
   "metadata": {},
   "outputs": [],
   "source": [
    "# PLEASE FILL IN WITH YOUR OWN API KEYS AND TOKENS!\n",
    "bearer_token = \"\""
   ]
  },
  {
   "cell_type": "code",
   "execution_count": null,
   "metadata": {},
   "outputs": [],
   "source": [
    "# Initialize a Client\n",
    "client = tweepy.Client(bearer_token)"
   ]
  },
  {
   "cell_type": "code",
   "execution_count": null,
   "metadata": {},
   "outputs": [],
   "source": [
    "query = \"Putin -is:retweet\"  # The query string\n",
    "n_tweets = 10  # The maximum number of tweets (default: 10, max: 100)\n",
    "\n",
    "response = client.search_recent_tweets(\n",
    "    query,\n",
    "    max_results=n_tweets\n",
    ")\n",
    "\n",
    "tweets = [tweet.text for tweet in response.data]\n",
    "\n",
    "print('\\n\\n'.join(tweets))"
   ]
  },
  {
   "cell_type": "markdown",
   "metadata": {},
   "source": [
    "### 2. Pre-processing tweets"
   ]
  },
  {
   "cell_type": "code",
   "execution_count": null,
   "metadata": {},
   "outputs": [],
   "source": [
    "%%time\n",
    "tweets_preprocessed = []\n",
    "for tweet in tweets:\n",
    "    tweet = tweet.lower()\n",
    "    tweet = re.sub(r\"^https://t.co/[a-zA-Z0-9]*\\s\", \" \", tweet)\n",
    "    tweet = re.sub(r\"\\s+https://t.co/[a-zA-Z0-9]*\\s\", \" \", tweet)\n",
    "    tweet = re.sub(r\"\\s+https://t.co/[a-zA-Z0-9]*$\", \" \", tweet)\n",
    "    tweet = re.sub(r\"that's\", \"that is\", tweet)\n",
    "    tweet = re.sub(r\"there's\", \"there is\", tweet)\n",
    "    tweet = re.sub(r\"what's\", \"what is\", tweet)\n",
    "    tweet = re.sub(r\"where's\", \"where is\", tweet)\n",
    "    tweet = re.sub(r\"it's\", \"it is\", tweet)\n",
    "    tweet = re.sub(r\"who's\", \"who is\", tweet)\n",
    "    tweet = re.sub(r\"i'm\", \"i am\", tweet)\n",
    "    tweet = re.sub(r\"she's\", \"she is\", tweet)\n",
    "    tweet = re.sub(r\"he's\", \"he is\", tweet)\n",
    "    tweet = re.sub(r\"they're\", \"they are\", tweet)\n",
    "    tweet = re.sub(r\"who're\", \"who are\", tweet)\n",
    "    tweet = re.sub(r\"ain't\", \"am not\",tweet)\n",
    "    tweet = re.sub(r\"wouldn't\", \"would not\", tweet)\n",
    "    tweet = re.sub(r\"shouldn't\", \"should not\", tweet)\n",
    "    tweet = re.sub(r\"can't\", \"can not\",tweet)\n",
    "    tweet = re.sub(r\"couldn't\", \"could not\", tweet)\n",
    "    tweet = re.sub(r\"won't\", \"will not\", tweet)\n",
    "    tweet = re.sub(r\"\\W\", \" \", tweet)\n",
    "    tweet = re.sub(r\"\\d\", \" \", tweet)\n",
    "    tweet = re.sub(r\"\\s+[a-z]\\s+\", \" \", tweet)\n",
    "    tweet = re.sub(r\"\\s+[a-z]$\", \" \", tweet)\n",
    "    tweet = re.sub(r\"^[a-z]\\s+\", \" \", tweet)\n",
    "    tweet = re.sub(r\"\\s+\", \" \", tweet)\n",
    "    words = nltk.word_tokenize(tweet)\n",
    "    words = [x for x in words if x not in stopwords.words('english')]\n",
    "    tweet = ' '.join(words)\n",
    "    tweets_preprocessed.append(tweet)"
   ]
  },
  {
   "cell_type": "code",
   "execution_count": null,
   "metadata": {},
   "outputs": [],
   "source": [
    "# Print out the tweets.\n",
    "for i, tweet in enumerate(tweets_preprocessed):\n",
    "    print(f\"{i}: {tweet}\")"
   ]
  },
  {
   "cell_type": "markdown",
   "metadata": {},
   "source": [
    "#### Refactor the code and check for the same results"
   ]
  },
  {
   "cell_type": "code",
   "execution_count": null,
   "metadata": {},
   "outputs": [],
   "source": [
    "def preprocess_tweet(tweet):\n",
    "    \"\"\"Preprocess a tweet.\"\"\"\n",
    "    tweet = tweet.lower()\n",
    "    tweet = re.sub(r\"^https://t.co/[a-zA-Z0-9]*\\s\", \" \", tweet)\n",
    "    tweet = re.sub(r\"\\s+https://t.co/[a-zA-Z0-9]*\\s\", \" \", tweet)\n",
    "    tweet = re.sub(r\"\\s+https://t.co/[a-zA-Z0-9]*$\", \" \", tweet)\n",
    "    tweet = re.sub(r\"that's\", \"that is\", tweet)\n",
    "    tweet = re.sub(r\"there's\", \"there is\", tweet)\n",
    "    tweet = re.sub(r\"what's\", \"what is\", tweet)\n",
    "    tweet = re.sub(r\"where's\", \"where is\", tweet)\n",
    "    tweet = re.sub(r\"it's\", \"it is\", tweet)\n",
    "    tweet = re.sub(r\"who's\", \"who is\", tweet)\n",
    "    tweet = re.sub(r\"i'm\", \"i am\", tweet)\n",
    "    tweet = re.sub(r\"she's\", \"she is\", tweet)\n",
    "    tweet = re.sub(r\"he's\", \"he is\", tweet)\n",
    "    tweet = re.sub(r\"they're\", \"they are\", tweet)\n",
    "    tweet = re.sub(r\"who're\", \"who are\", tweet)\n",
    "    tweet = re.sub(r\"ain't\", \"am not\",tweet)\n",
    "    tweet = re.sub(r\"wouldn't\", \"would not\", tweet)\n",
    "    tweet = re.sub(r\"shouldn't\", \"should not\", tweet)\n",
    "    tweet = re.sub(r\"can't\", \"can not\",tweet)\n",
    "    tweet = re.sub(r\"couldn't\", \"could not\", tweet)\n",
    "    tweet = re.sub(r\"won't\", \"will not\", tweet)\n",
    "    tweet = re.sub(r\"\\W\", \" \", tweet)\n",
    "    tweet = re.sub(r\"\\d\", \" \", tweet)\n",
    "    tweet = re.sub(r\"\\s+[a-z]\\s+\", \" \", tweet)\n",
    "    tweet = re.sub(r\"\\s+[a-z]$\", \" \", tweet)\n",
    "    tweet = re.sub(r\"^[a-z]\\s+\", \" \", tweet)\n",
    "    tweet = re.sub(r\"\\s+\", \" \", tweet)\n",
    "    words = nltk.word_tokenize(tweet)\n",
    "    words = [x for x in words if x not in stopwords.words('english')]\n",
    "\n",
    "    return ' '.join(words)"
   ]
  },
  {
   "cell_type": "code",
   "execution_count": null,
   "metadata": {},
   "outputs": [],
   "source": [
    "%%time\n",
    "preprocessed_tweets = map(preprocess_tweet, tweets)"
   ]
  },
  {
   "cell_type": "code",
   "execution_count": null,
   "metadata": {},
   "outputs": [],
   "source": [
    "def print_tweets(tweets):\n",
    "    \"\"\"Print tweets.\"\"\"\n",
    "    for i, tweet in enumerate(tweets):\n",
    "        print(f\"{i}: {tweet}\")"
   ]
  },
  {
   "cell_type": "code",
   "execution_count": null,
   "metadata": {},
   "outputs": [],
   "source": [
    "print_tweets(preprocessed_tweets)"
   ]
  },
  {
   "cell_type": "markdown",
   "metadata": {},
   "source": [
    "### 3. Follow a Twitter user\n",
    "More examples can be found [here](hhttps://dev.to/twitterdev/a-comprehensive-guide-for-using-the-twitter-api-v2-using-tweepy-in-python-15d9)."
   ]
  },
  {
   "cell_type": "code",
   "execution_count": null,
   "metadata": {},
   "outputs": [],
   "source": [
    "query = \"from:elonmusk -is:retweet\"  # Query\n",
    "n_tweets = 10  # Maximum number of tweets (default: 10, max: 100)\n",
    "\n",
    "response = client.search_recent_tweets(\n",
    "    query,\n",
    "    max_results=n_tweets\n",
    ")\n",
    "\n",
    "tweets = [tweet.text for tweet in response.data]\n",
    "\n",
    "print('\\n\\n'.join(tweets))"
   ]
  },
  {
   "cell_type": "code",
   "execution_count": null,
   "metadata": {},
   "outputs": [],
   "source": [
    "%%time\n",
    "preprocessed_tweets = map(preprocess_tweet, tweets)"
   ]
  },
  {
   "cell_type": "code",
   "execution_count": null,
   "metadata": {},
   "outputs": [],
   "source": [
    "print_tweets(preprocessed_tweets)"
   ]
  },
  {
   "cell_type": "code",
   "execution_count": null,
   "metadata": {},
   "outputs": [],
   "source": []
  }
 ],
 "metadata": {
  "kernelspec": {
   "display_name": "Python 3",
   "language": "python",
   "name": "python3"
  },
  "language_info": {
   "codemirror_mode": {
    "name": "ipython",
    "version": 3
   },
   "file_extension": ".py",
   "mimetype": "text/x-python",
   "name": "python",
   "nbconvert_exporter": "python",
   "pygments_lexer": "ipython3",
   "version": "3.7.12"
  }
 },
 "nbformat": 4,
 "nbformat_minor": 2
}
