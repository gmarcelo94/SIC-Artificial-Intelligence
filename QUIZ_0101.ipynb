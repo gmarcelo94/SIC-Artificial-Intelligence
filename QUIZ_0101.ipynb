{
  "nbformat": 4,
  "nbformat_minor": 0,
  "metadata": {
    "colab": {
      "name": "QUIZ 0101.ipynb",
      "provenance": [],
      "authorship_tag": "ABX9TyNIT2Tql65D+ejekLwU2eTA",
      "include_colab_link": true
    },
    "kernelspec": {
      "name": "python3",
      "display_name": "Python 3"
    },
    "language_info": {
      "name": "python"
    }
  },
  "cells": [
    {
      "cell_type": "markdown",
      "metadata": {
        "id": "view-in-github",
        "colab_type": "text"
      },
      "source": [
        "<a href=\"https://colab.research.google.com/github/gmarcelo94/SIC-Artificial-Intelligence/blob/main/QUIZ_0101.ipynb\" target=\"_parent\"><img src=\"https://colab.research.google.com/assets/colab-badge.svg\" alt=\"Open In Colab\"/></a>"
      ]
    },
    {
      "cell_type": "markdown",
      "source": [
        "Quiz #0101\n",
        "Provide the answers in Python code:\n",
        "1). In the class A, students' heights are:\n",
        "\n",
        "161.5\n",
        "165.9\n",
        "168.7\n",
        "163.1\n",
        "170.8\n",
        "167.2\n",
        "\n",
        "Calculate the mean height by using Python 'list' and 'for' loop:"
      ],
      "metadata": {
        "id": "YyR7KZ4jc0xa"
      }
    },
    {
      "cell_type": "code",
      "source": [
        "Aheights = [161.5, 165.9, 168.7, 163.1, 170.8, 167.2]\n",
        "\n",
        "avg_Aheight = sum(Aheights)/len(Aheights)\n",
        "print(avg_Aheight)"
      ],
      "metadata": {
        "colab": {
          "base_uri": "https://localhost:8080/"
        },
        "id": "9SHQOH7gcz5-",
        "outputId": "3d68527d-6914-4230-87cc-8ad8baffe276"
      },
      "execution_count": null,
      "outputs": [
        {
          "output_type": "stream",
          "name": "stdout",
          "text": [
            "166.20000000000002\n"
          ]
        }
      ]
    },
    {
      "cell_type": "code",
      "source": [
        "#or\n",
        "Aheights = [161.5, 165.9, 168.7, 163.1, 170.8, 167.2]\n",
        "\n",
        "sum = 0\n",
        "for a in Aheights: # runs throught he whole list\n",
        "  sum += a \n",
        "print(sum/len(Aheights))\n"
      ],
      "metadata": {
        "colab": {
          "base_uri": "https://localhost:8080/"
        },
        "id": "eUGFOSM0gDR-",
        "outputId": "c10204d7-bfb3-4e8a-97d0-bd10b25f509f"
      },
      "execution_count": null,
      "outputs": [
        {
          "output_type": "stream",
          "name": "stdout",
          "text": [
            "166.20000000000002\n"
          ]
        }
      ]
    },
    {
      "cell_type": "markdown",
      "source": [
        "2). In the class B, students' heights are:\n",
        "\n",
        "172.5\n",
        "162.9\n",
        "161.7\n",
        "160.1\n",
        "161.8\n",
        "169.2\n",
        "\n",
        "Calculate the mean height by using Python 'list' and 'for' loop:"
      ],
      "metadata": {
        "id": "aTdcIBg8c6X1"
      }
    },
    {
      "cell_type": "code",
      "execution_count": null,
      "metadata": {
        "colab": {
          "base_uri": "https://localhost:8080/"
        },
        "id": "zxckvUU7cqkd",
        "outputId": "e996cd84-5004-4484-cc18-972e3d384653"
      },
      "outputs": [
        {
          "output_type": "stream",
          "name": "stdout",
          "text": [
            "164.70000000000002\n"
          ]
        }
      ],
      "source": [
        "Bheights = [172.5, 162.9, 161.7, 160.1, 161.8, 169.2]\n",
        "\n",
        "avg_Bheight = sum(Bheights)/len(Bheights)\n",
        "print(avg_Bheight)"
      ]
    },
    {
      "cell_type": "code",
      "source": [
        "#or\n",
        "Bheights = [172.5, 162.9, 161.7, 160.1, 161.8, 169.2]\n",
        "\n",
        "sum = 0\n",
        "for b in Bheights: # runs throught he whole list\n",
        "  sum += b \n",
        "print(sum/len(Bheights))"
      ],
      "metadata": {
        "colab": {
          "base_uri": "https://localhost:8080/"
        },
        "id": "zVmE-t_1geLG",
        "outputId": "b0e5ffdb-6a0b-4b7d-e205-bc3229b61140"
      },
      "execution_count": null,
      "outputs": [
        {
          "output_type": "stream",
          "name": "stdout",
          "text": [
            "164.70000000000002\n"
          ]
        }
      ]
    },
    {
      "cell_type": "markdown",
      "source": [
        "3). The class A and the class B are joined together to form the class AB. Calculate the mean height by using Python 'list' and 'for' loop:"
      ],
      "metadata": {
        "id": "JZUbiBaec6_8"
      }
    },
    {
      "cell_type": "code",
      "source": [
        "ABheights = Aheights + Bheights\n",
        "print(ABheights)\n",
        "\n",
        "avg_ABheight = sum(ABheights)/len(ABheights)\n",
        "print(avg_ABheight)"
      ],
      "metadata": {
        "colab": {
          "base_uri": "https://localhost:8080/"
        },
        "id": "pVEma3zMdFJK",
        "outputId": "03ee9c49-62cc-4747-8652-a07d8e4b1852"
      },
      "execution_count": null,
      "outputs": [
        {
          "output_type": "stream",
          "name": "stdout",
          "text": [
            "[161.5, 165.9, 168.7, 163.1, 170.8, 167.2, 172.5, 162.9, 161.7, 160.1, 161.8, 169.2]\n",
            "165.45000000000002\n"
          ]
        }
      ]
    },
    {
      "cell_type": "code",
      "source": [
        "#or\n",
        "Bheights = Aheights + Bheights\n",
        "\n",
        "sum = 0\n",
        "for ab in ABheights: # runs throught he whole list\n",
        "  sum += ab \n",
        "print(sum/len(ABheights))"
      ],
      "metadata": {
        "colab": {
          "base_uri": "https://localhost:8080/"
        },
        "id": "jk01JuQMgmmo",
        "outputId": "c055dc78-7a72-4a5b-8ef6-d8c1e3a9c12c"
      },
      "execution_count": null,
      "outputs": [
        {
          "output_type": "stream",
          "name": "stdout",
          "text": [
            "165.45000000000002\n"
          ]
        }
      ]
    },
    {
      "cell_type": "markdown",
      "source": [
        "4). Sort the heights of the class AB."
      ],
      "metadata": {
        "id": "RJGr41hoc-9E"
      }
    },
    {
      "cell_type": "code",
      "source": [
        "ABheights.sort()\n",
        "AB=set(ABheights)\n",
        "print(ABheights)\n",
        "print(AB)"
      ],
      "metadata": {
        "colab": {
          "base_uri": "https://localhost:8080/"
        },
        "id": "Ihw5tc_6dF1I",
        "outputId": "06a42e30-8b9d-48ca-8207-4572dde168c4"
      },
      "execution_count": null,
      "outputs": [
        {
          "output_type": "stream",
          "name": "stdout",
          "text": [
            "[160.1, 161.5, 161.7, 161.8, 162.9, 163.1, 165.9, 167.2, 168.7, 169.2, 170.8, 172.5]\n",
            "{160.1, 161.5, 162.9, 161.7, 161.8, 163.1, 165.9, 167.2, 168.7, 169.2, 170.8, 172.5}\n"
          ]
        }
      ]
    },
    {
      "cell_type": "markdown",
      "source": [
        "5). The class C is formed with students with the height less than 165. Make a list 'C' containing the heights of the class C."
      ],
      "metadata": {
        "id": "f0k6xSpCdCK2"
      }
    },
    {
      "cell_type": "code",
      "source": [
        "Cheights = []\n",
        "for ab in ABheights:\n",
        "  if (ab < 165):\n",
        "    Cheights.append(ab)\n",
        "print(Cheights)"
      ],
      "metadata": {
        "colab": {
          "base_uri": "https://localhost:8080/"
        },
        "id": "XOGdWAoZdGZa",
        "outputId": "ba374a05-b846-4636-8cca-94c9ffecc285"
      },
      "execution_count": null,
      "outputs": [
        {
          "output_type": "stream",
          "name": "stdout",
          "text": [
            "[160.1, 161.5, 161.7, 161.8, 162.9, 163.1]\n"
          ]
        }
      ]
    },
    {
      "cell_type": "markdown",
      "source": [
        "6). The class D is formed with students with the height larger than 160 and less than 170. Make a list containing the heights of the class D."
      ],
      "metadata": {
        "id": "gtnTzUqOdENG"
      }
    },
    {
      "cell_type": "code",
      "source": [
        "Dheights = []\n",
        "for ab in ABheights:\n",
        "  if (ab < 170 and  ab > 160):\n",
        "    Dheights.append(ab)\n",
        "print(Dheights)"
      ],
      "metadata": {
        "colab": {
          "base_uri": "https://localhost:8080/"
        },
        "id": "9b6PjsrjdG3P",
        "outputId": "c8c37073-a338-4ad9-b999-ba72550ad7f7"
      },
      "execution_count": null,
      "outputs": [
        {
          "output_type": "stream",
          "name": "stdout",
          "text": [
            "[160.1, 161.5, 161.7, 161.8, 162.9, 163.1, 165.9, 167.2, 168.7, 169.2]\n"
          ]
        }
      ]
    }
  ]
}